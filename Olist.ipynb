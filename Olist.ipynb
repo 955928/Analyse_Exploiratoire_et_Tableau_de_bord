{
 "cells": [
  {
   "cell_type": "code",
   "execution_count": 2,
   "metadata": {},
   "outputs": [],
   "source": [
    "import numpy as np\n",
    "import matplotlib.pyplot as plt\n",
    "import pandas as pd\n",
    "import seaborn as sns \n",
    "\n",
    "\n",
    "\n",
    "df_customers_dataset = pd.read_csv(\"data_2\\customers_dataset.csv\", sep=\",\")\n",
    "df_geolocation_dataset = pd.read_csv(\"data_2\\geolocation_dataset.csv\", sep=\",\")\n",
    "df_order_items_dataset = pd.read_csv(\"data_2\\order_payments_dataset.csv\", sep=\",\")\n",
    "df_order_payments_dataset = pd.read_csv(\"data_2\\customers_dataset.csv\", sep=\",\")\n",
    "df_order_review_dataset = pd.read_csv(\"data_2/order_review_dataset_clean.csv\", sep=\",\")\n",
    "df_order_dataset = pd.read_csv(\"data_2\\orders_dataset.csv\", sep=\",\")\n",
    "df_product_categor_name_dataset = pd.read_csv(\"data_2\\product_category_name_translation.csv\", sep=\",\")\n",
    "df_products_dataset = pd.read_csv(\"data_2\\products_dataset.csv\", sep=\",\")\n",
    "df_sellers_dataset = pd.read_csv(\"data_2/sellers_dataset.csv\", sep=\",\")\n",
    "df_state_name_dataset = pd.read_csv(\"data_2\\state_name.csv\", sep=\",\")\n"
   ]
  },
  {
   "cell_type": "code",
   "execution_count": null,
   "metadata": {},
   "outputs": [],
   "source": []
  }
 ],
 "metadata": {
  "kernelspec": {
   "display_name": "Python 3",
   "language": "python",
   "name": "python3"
  },
  "language_info": {
   "codemirror_mode": {
    "name": "ipython",
    "version": 3
   },
   "file_extension": ".py",
   "mimetype": "text/x-python",
   "name": "python",
   "nbconvert_exporter": "python",
   "pygments_lexer": "ipython3",
   "version": "3.11.7"
  }
 },
 "nbformat": 4,
 "nbformat_minor": 2
}
